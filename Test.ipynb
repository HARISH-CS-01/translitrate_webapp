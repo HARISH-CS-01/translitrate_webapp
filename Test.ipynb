{
 "cells": [
  {
   "cell_type": "code",
   "execution_count": 1,
   "id": "a8f9a503-cf2f-439a-8b8a-bf254fab039f",
   "metadata": {},
   "outputs": [],
   "source": [
    "from inferencemodel import inferencemodel"
   ]
  },
  {
   "cell_type": "code",
   "execution_count": 2,
   "id": "283d3ec8-a486-4045-92ea-021144587eff",
   "metadata": {},
   "outputs": [],
   "source": [
    "text=\"Harish loves is amma venmani\""
   ]
  },
  {
   "cell_type": "code",
   "execution_count": 3,
   "id": "334f4217-eb16-4f8c-8546-337245063ff7",
   "metadata": {},
   "outputs": [],
   "source": [
    "inf=inferencemodel()"
   ]
  },
  {
   "cell_type": "code",
   "execution_count": 4,
   "id": "4d28f663-ae1e-4b86-9bd8-9e0f9ac27aa3",
   "metadata": {},
   "outputs": [],
   "source": [
    "predicted_words=inf.generate(text)"
   ]
  },
  {
   "cell_type": "code",
   "execution_count": 8,
   "id": "f4c6ee44-609e-412d-b47b-d590c092b78e",
   "metadata": {},
   "outputs": [
    {
     "name": "stdout",
     "output_type": "stream",
     "text": [
      "ஹரிஷ் லோவெஸ் இஸ் அம்மா வென்மனனி "
     ]
    }
   ],
   "source": [
    "for i in predicted_words:\n",
    "    print(i,end=' ')"
   ]
  },
  {
   "cell_type": "code",
   "execution_count": null,
   "id": "7000a593-b734-4107-af4b-9e94c4ff3192",
   "metadata": {},
   "outputs": [],
   "source": []
  }
 ],
 "metadata": {
  "kernelspec": {
   "display_name": "Python 3 (ipykernel)",
   "language": "python",
   "name": "python3"
  },
  "language_info": {
   "codemirror_mode": {
    "name": "ipython",
    "version": 3
   },
   "file_extension": ".py",
   "mimetype": "text/x-python",
   "name": "python",
   "nbconvert_exporter": "python",
   "pygments_lexer": "ipython3",
   "version": "3.13.5"
  }
 },
 "nbformat": 4,
 "nbformat_minor": 5
}
